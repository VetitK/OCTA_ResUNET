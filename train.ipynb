{
 "cells": [
  {
   "cell_type": "code",
   "execution_count": null,
   "metadata": {},
   "outputs": [],
   "source": [
    "from lightning import RetinaVesselSegmentation\n",
    "from pytorch_lightning import Trainer\n",
    "from data_interface import DriveDataModule\n",
    "from pytorch_lightning.loggers import WandbLogger\n",
    "from pytorch_lightning.callbacks.early_stopping import EarlyStopping"
   ]
  },
  {
   "cell_type": "code",
   "execution_count": null,
   "metadata": {},
   "outputs": [],
   "source": [
    "wandb_logger = WandbLogger(project='retina_vessel_segmentation', name='resunetVariant2')"
   ]
  },
  {
   "cell_type": "code",
   "execution_count": null,
   "metadata": {},
   "outputs": [],
   "source": [
    "model = RetinaVesselSegmentation('data', lr=1e-5, loss_type='DiceBCE')\n",
    "trainer = Trainer(fast_dev_run=False, max_epochs=200, logger=wandb_logger, log_every_n_steps=4, callbacks=[\n",
    "                  EarlyStopping(monitor='val_loss', patience=10, mode='min')], gpus=1)\n",
    "data_module = DriveDataModule(\n",
    "    data_dir='data', batch_size=4, numworkers=8, img_size=592)\n"
   ]
  },
  {
   "cell_type": "code",
   "execution_count": null,
   "metadata": {},
   "outputs": [],
   "source": [
    "trainer.fit(model, data_module)"
   ]
  },
  {
   "cell_type": "code",
   "execution_count": null,
   "metadata": {},
   "outputs": [],
   "source": [
    "trainer.test(model, data_module)"
   ]
  }
 ],
 "metadata": {
  "kernelspec": {
   "display_name": "ml_dev",
   "language": "python",
   "name": "python3"
  },
  "language_info": {
   "codemirror_mode": {
    "name": "ipython",
    "version": 3
   },
   "file_extension": ".py",
   "mimetype": "text/x-python",
   "name": "python",
   "nbconvert_exporter": "python",
   "pygments_lexer": "ipython3",
   "version": "3.10.8"
  },
  "orig_nbformat": 4,
  "vscode": {
   "interpreter": {
    "hash": "18ff7aa0ec37e1bc8629c11f93d73d729e9b51c6a45eb4644182ada8f076585c"
   }
  }
 },
 "nbformat": 4,
 "nbformat_minor": 2
}
